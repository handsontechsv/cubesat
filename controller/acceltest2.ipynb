{
 "cells": [
  {
   "cell_type": "code",
   "execution_count": 1,
   "id": "72a71e5d-21e4-4479-839f-695b3f2af4e8",
   "metadata": {
    "tags": []
   },
   "outputs": [
    {
     "name": "stdout",
     "output_type": "stream",
     "text": [
      "Acceleration: X:-9.73, Y: -0.65, Z: 0.80 m/s^2\n",
      "Gyro X:-0.01, Y: -0.01, Z: 0.05 degrees/s\n",
      "Gyro X:-0.11, Y: 0.11, Z: -0.19 degrees/s\n",
      "Temperature: 26.55 C\n",
      "estimated x position: -0.00\n",
      "estmiated velocity: -0.01\n",
      "\n"
     ]
    },
    {
     "ename": "KeyboardInterrupt",
     "evalue": "",
     "output_type": "error",
     "traceback": [
      "\u001b[0;31m---------------------------------------------------------------------------\u001b[0m",
      "\u001b[0;31mKeyboardInterrupt\u001b[0m                         Traceback (most recent call last)",
      "Cell \u001b[0;32mIn[1], line 33\u001b[0m\n\u001b[1;32m     31\u001b[0m velocity \u001b[38;5;241m=\u001b[39m (acceleration \u001b[38;5;241m+\u001b[39m mpu\u001b[38;5;241m.\u001b[39macceleration[\u001b[38;5;241m1\u001b[39m])\u001b[38;5;241m/\u001b[39m\u001b[38;5;241m2\u001b[39m \u001b[38;5;241m*\u001b[39m cycletime\n\u001b[1;32m     32\u001b[0m acceleration \u001b[38;5;241m=\u001b[39m mpu\u001b[38;5;241m.\u001b[39macceleration[\u001b[38;5;241m1\u001b[39m]\n\u001b[0;32m---> 33\u001b[0m \u001b[43mtime\u001b[49m\u001b[38;5;241;43m.\u001b[39;49m\u001b[43msleep\u001b[49m\u001b[43m(\u001b[49m\u001b[43mcycletime\u001b[49m\u001b[43m)\u001b[49m\n",
      "\u001b[0;31mKeyboardInterrupt\u001b[0m: "
     ]
    }
   ],
   "source": [
    "import time\n",
    "import board\n",
    "import adafruit_mpu6050\n",
    "import numpy\n",
    "from IPython.display import display, clear_output\n",
    "\n",
    "i2c = board.I2C()  # uses board.SCL and board.SDA\n",
    "mpu = adafruit_mpu6050.MPU6050(i2c)\n",
    "\n",
    "velocity = 0\n",
    "position = 0\n",
    "acceleration = 0\n",
    "\n",
    "gyro = (0, 0, 0)\n",
    "cycletime = 0.01\n",
    "while True:\n",
    "    clear_output(wait=True)\n",
    "    print(\"Acceleration: X:%.2f, Y: %.2f, Z: %.2f m/s^2\"%(mpu.acceleration))\n",
    "    print(\"Gyro X:%.2f, Y: %.2f, Z: %.2f degrees/s\"%(mpu.gyro))\n",
    "    newgyropos = tuple([cycletime * x for x in mpu.gyro])\n",
    "    gyro = tuple(map(sum, zip(gyro, newgyropos)))\n",
    "    print(\"Gyro X:%.2f, Y: %.2f, Z: %.2f degrees/s\"%(gyro))\n",
    "    \n",
    "    print(\"Temperature: %.2f C\"%mpu.temperature)\n",
    "    \n",
    "    print(\"estimated x position: %.2f\" %(position))\n",
    "    print(\"estmiated velocity: %.2f\" %velocity)\n",
    "    print(\"\")\n",
    "    position = velocity * cycletime\n",
    "    #approximate integral of acceleration to get velocity\n",
    "    velocity = (acceleration + mpu.acceleration[1])/2 * cycletime\n",
    "    acceleration = mpu.acceleration[1]\n",
    "    time.sleep(cycletime)\n",
    "    "
   ]
  },
  {
   "cell_type": "code",
   "execution_count": null,
   "id": "dcb5df57-9aa0-47e9-9ffa-c75937c10989",
   "metadata": {},
   "outputs": [],
   "source": []
  }
 ],
 "metadata": {
  "kernelspec": {
   "display_name": "Python 3 (ipykernel)",
   "language": "python",
   "name": "python3"
  },
  "language_info": {
   "codemirror_mode": {
    "name": "ipython",
    "version": 3
   },
   "file_extension": ".py",
   "mimetype": "text/x-python",
   "name": "python",
   "nbconvert_exporter": "python",
   "pygments_lexer": "ipython3",
   "version": "3.9.2"
  }
 },
 "nbformat": 4,
 "nbformat_minor": 5
}
