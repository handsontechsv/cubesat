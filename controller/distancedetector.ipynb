{
 "cells": [
  {
   "cell_type": "code",
   "execution_count": 1,
   "id": "355ed96f-45d4-4bd7-bfa5-fdc5e1ae9b25",
   "metadata": {
    "tags": []
   },
   "outputs": [],
   "source": [
    "import serial,time\n",
    "import numpy as np"
   ]
  },
  {
   "cell_type": "code",
   "execution_count": 2,
   "id": "8b13530a-75a6-4e1d-a298-21e4527c8d18",
   "metadata": {},
   "outputs": [],
   "source": [
    "#\n",
    "##########################\n",
    "# TFLuna Lidar\n",
    "##########################\n",
    "#\n",
    "ser = serial.Serial(\"/dev/serial0\", 115200,timeout=0) # mini UART serial device\n",
    "#\n",
    "############################\n",
    "# read ToF data from TF-Luna\n",
    "############################\n",
    "#\n",
    "\n"
   ]
  },
  {
   "cell_type": "code",
   "execution_count": null,
   "id": "99a699f7-7675-490a-b6a3-2a537e09ee77",
   "metadata": {
    "tags": []
   },
   "outputs": [],
   "source": [
    "\n",
    "def read_tfluna_data():\n",
    "    while True:\n",
    "        counter = ser.in_waiting # count the number of bytes of the serial port\n",
    "        if counter > 8:\n",
    "            bytes_serial = ser.read(9) # read 9 bytes\n",
    "            ser.reset_input_buffer() # reset buffer\n",
    "\n",
    "            if bytes_serial[0] == 0x59 and bytes_serial[1] == 0x59: # check first two bytes\n",
    "                distance = bytes_serial[2] + bytes_serial[3]*256 # distance in next two bytes\n",
    "                strength = bytes_serial[4] + bytes_serial[5]*256 # signal strength in next two bytes\n",
    "                temperature = bytes_serial[6] + bytes_serial[7]*256 # temp in next two bytes\n",
    "                temperature = (temperature/8.0) - 256.0 # temp scaling and offset\n",
    "                return distance/100.0,strength,temperature\n",
    "if ser.isOpen() == False:\n",
    "    ser.open() # open serial port if not open\n",
    "\n",
    "distance,strength,temperature = read_tfluna_data() # read values\n",
    "print('Distance: {0:2.2f} m, Strength: {1:2.0f} / 65535 (16-bit), Chip Temperature: {2:2.1f} C'.\\\n",
    "              format(distance,strength,temperature)) # print sample data\n",
    "ser.close() # close serial port\n",
    "\n"
   ]
  },
  {
   "cell_type": "code",
   "execution_count": null,
   "id": "13d7db41-e2ab-4fc4-9211-72e7ff241b01",
   "metadata": {},
   "outputs": [],
   "source": []
  }
 ],
 "metadata": {
  "kernelspec": {
   "display_name": "Python 3 (ipykernel)",
   "language": "python",
   "name": "python3"
  },
  "language_info": {
   "codemirror_mode": {
    "name": "ipython",
    "version": 3
   },
   "file_extension": ".py",
   "mimetype": "text/x-python",
   "name": "python",
   "nbconvert_exporter": "python",
   "pygments_lexer": "ipython3",
   "version": "3.9.2"
  }
 },
 "nbformat": 4,
 "nbformat_minor": 5
}
